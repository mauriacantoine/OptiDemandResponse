{
 "cells": [
  {
   "cell_type": "code",
   "execution_count": 1,
   "id": "bee92b71",
   "metadata": {},
   "outputs": [
    {
     "name": "stdout",
     "output_type": "stream",
     "text": [
      "salut les mecs\n"
     ]
    }
   ],
   "source": [
    "print(\"salut les mecs\")"
   ]
  },
  {
   "cell_type": "code",
   "execution_count": null,
   "id": "e0a0f34b",
   "metadata": {},
   "outputs": [],
   "source": [
    "fe"
   ]
  },
  {
   "cell_type": "markdown",
   "id": "3cc64430",
   "metadata": {},
   "source": [
    "section 2\n"
   ]
  },
  {
   "cell_type": "markdown",
   "id": "3f05ee51",
   "metadata": {},
   "source": []
  }
 ],
 "metadata": {
  "kernelspec": {
   "display_name": "IML",
   "language": "python",
   "name": "python3"
  },
  "language_info": {
   "codemirror_mode": {
    "name": "ipython",
    "version": 3
   },
   "file_extension": ".py",
   "mimetype": "text/x-python",
   "name": "python",
   "nbconvert_exporter": "python",
   "pygments_lexer": "ipython3",
   "version": "3.10.13"
  }
 },
 "nbformat": 4,
 "nbformat_minor": 5
}
