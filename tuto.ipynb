{
 "cells": [
  {
   "cell_type": "markdown",
   "id": "268d961f",
   "metadata": {},
   "source": [
    "Our example optimizes the following model:\n",
    "\n",
    "\n",
    "maximize\tx\t+\ty\t+\t2 z\t \t \n",
    "subject to\tx\t+\t2 y\t+\t3 z\t<=\t4\n",
    " \tx\t+\ty\t \t \t>=\t1\n",
    " \tx, y, z binary"
   ]
  },
  {
   "cell_type": "code",
   "execution_count": 1,
   "id": "bee92b71",
   "metadata": {},
   "outputs": [],
   "source": [
    "import gurobipy as gp\n",
    "from gurobipy import GRB\n",
    "import numpy as np\n",
    "import scipy.sparse as sp"
   ]
  },
  {
   "cell_type": "code",
   "execution_count": 4,
   "id": "e0a0f34b",
   "metadata": {},
   "outputs": [],
   "source": [
    "# Create a new model\n",
    "m = gp.Model(\"mip1\")"
   ]
  },
  {
   "cell_type": "code",
   "execution_count": 5,
   "id": "09597d50",
   "metadata": {},
   "outputs": [],
   "source": [
    "# Create variables\n",
    "x = m.addVar(vtype=GRB.BINARY, name=\"x\") #specify binary variable\n",
    "y = m.addVar(vtype=GRB.BINARY, name=\"y\")\n",
    "z = m.addVar(vtype=GRB.BINARY, name=\"z\")\n",
    "\n",
    "# Add constraint: x + 2 y + 3 z <= 4\n",
    "m.addConstr(x + 2 * y + 3 * z <= 4, \"c0\")\n",
    "# Add constraint: x + y >= 1\n",
    "m.addConstr(x + y >= 1, \"c1\")\n",
    "\n",
    "# Set objective\n",
    "m.setObjective(x + y + 2 * z, GRB.MAXIMIZE)"
   ]
  },
  {
   "cell_type": "code",
   "execution_count": 6,
   "id": "cc6ccbe1",
   "metadata": {},
   "outputs": [
    {
     "name": "stdout",
     "output_type": "stream",
     "text": [
      "Gurobi Optimizer version 12.0.1 build v12.0.1rc0 (mac64[arm] - Darwin 23.1.0 23B81)\n",
      "\n",
      "CPU model: Apple M2\n",
      "Thread count: 8 physical cores, 8 logical processors, using up to 8 threads\n",
      "\n",
      "Optimize a model with 2 rows, 3 columns and 5 nonzeros\n",
      "Model fingerprint: 0x98886187\n",
      "Variable types: 0 continuous, 3 integer (3 binary)\n",
      "Coefficient statistics:\n",
      "  Matrix range     [1e+00, 3e+00]\n",
      "  Objective range  [1e+00, 2e+00]\n",
      "  Bounds range     [1e+00, 1e+00]\n",
      "  RHS range        [1e+00, 4e+00]\n",
      "Found heuristic solution: objective 2.0000000\n",
      "Presolve removed 2 rows and 3 columns\n",
      "Presolve time: 0.01s\n",
      "Presolve: All rows and columns removed\n",
      "\n",
      "Explored 0 nodes (0 simplex iterations) in 0.02 seconds (0.00 work units)\n",
      "Thread count was 1 (of 8 available processors)\n",
      "\n",
      "Solution count 2: 3 2 \n",
      "\n",
      "Optimal solution found (tolerance 1.00e-04)\n",
      "Best objective 3.000000000000e+00, best bound 3.000000000000e+00, gap 0.0000%\n"
     ]
    }
   ],
   "source": [
    "# Optimize model\n",
    "m.optimize()"
   ]
  },
  {
   "cell_type": "markdown",
   "id": "82366a87",
   "metadata": {},
   "source": [
    "Results"
   ]
  },
  {
   "cell_type": "code",
   "execution_count": 9,
   "id": "2a371581",
   "metadata": {},
   "outputs": [
    {
     "name": "stdout",
     "output_type": "stream",
     "text": [
      "x 1\n",
      "y 0\n",
      "z 1\n",
      "Obj: 3\n"
     ]
    }
   ],
   "source": [
    "#name and solution value for each variable\n",
    "for v in m.getVars():\n",
    "    print('%s %g' % (v.VarName, v.X))\n",
    "\n",
    "# Print objective value\n",
    "print('Obj: %g' % m.ObjVal)"
   ]
  },
  {
   "cell_type": "markdown",
   "id": "3f05ee51",
   "metadata": {},
   "source": []
  }
 ],
 "metadata": {
  "kernelspec": {
   "display_name": "IML",
   "language": "python",
   "name": "python3"
  },
  "language_info": {
   "codemirror_mode": {
    "name": "ipython",
    "version": 3
   },
   "file_extension": ".py",
   "mimetype": "text/x-python",
   "name": "python",
   "nbconvert_exporter": "python",
   "pygments_lexer": "ipython3",
   "version": "3.10.13"
  }
 },
 "nbformat": 4,
 "nbformat_minor": 5
}
